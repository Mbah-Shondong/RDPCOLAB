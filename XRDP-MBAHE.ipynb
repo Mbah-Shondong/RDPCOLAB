{
  "nbformat": 4,
  "nbformat_minor": 0,
  "metadata": {
    "colab": {
      "provenance": [],
      "include_colab_link": true
    },
    "kernelspec": {
      "name": "python3",
      "display_name": "Python 3"
    },
    "language_info": {
      "name": "python"
    }
  },
  "cells": [
    {
      "cell_type": "markdown",
      "metadata": {
        "id": "view-in-github",
        "colab_type": "text"
      },
      "source": [
        "<a href=\"https://colab.research.google.com/github/Mbah-Shondong/RDPCOLAB/blob/main/XRDP-MBAHE.ipynb\" target=\"_parent\"><img src=\"https://colab.research.google.com/assets/colab-badge.svg\" alt=\"Open In Colab\"/></a>"
      ]
    },
    {
      "cell_type": "code",
      "execution_count": null,
      "metadata": {
        "id": "WG3qWckAHBuH",
        "cellView": "form"
      },
      "outputs": [],
      "source": [
        "import os\n",
        "from IPython.display import clear_output \n",
        "from IPython.display import HTML\n",
        "shell = get_ipython()\n",
        "! mkdir -p ~/.tema && cd ~/.tema && wget https://raw.githubusercontent.com/Mbah-Shondong/RDPCOLAB/main/Windows10.zip && unzip Windows10.zip && sudo cp -a Windows-10-3.2.1 /usr/share/themes && cd ~ && rm -R ~/.tema\n",
        "clear_output()\n",
        "#@title # <CENTER>**RDP NOTEBOOK MBAHSHONDONG**\n",
        "#@markdown <center><h2>Copy&paste authtoken from https://dashboard.ngrok.com/auth\n",
        "\n",
        "#@markdown ---\n",
        "token = \"\" #@param {type:\"string\"}\n",
        "pilihregion = 'ap' #@param {type:\"string\"} [\"us\", \"eu\", \"ap\", \"au\", \"sa\", \"jp\", \"in\"]\n",
        "! echo -e \"ok123\\nok123\\n\" | sudo passwd\n",
        "! echo \"Processing Download dan Menginstal ngrok\"\n",
        "! wget -O ngrok.zip https://bin.equinox.io/c/4VmDzA7iaHb/ngrok-stable-linux-amd64.zip > /dev/null 2>&1\n",
        "! unzip ngrok.zip > /dev/null 2>&1\n",
        "! ./ngrok authtoken {token} > /dev/null 2>&1\n",
        "! ./ngrok tcp --region  {pilihregion} 3389 &>/dev/null &\n",
        "! mkdir -p ~/.icon && cd ~/.icon && wget https://raw.githubusercontent.com/Mbah-Shondong/RDPCOLAB/main/Windows10icon.zip && unzip Windows10icon.zip && sudo cp -a Windows-10-master /usr/share/icons && cd ~ && rm -R ~/.icon\n",
        "clear_output()\n",
        "! echo \"Menginstal Desktop Environment\"\n",
        "! sudo apt-get update > /dev/null 2>&1\n",
        "! sudo apt-get install xfce4 xfce4-terminal -y > /dev/null 2>&1\n",
        "! sudo apt remove xscreensaver > /dev/null 2>&1\n",
        "! mkdir -p ~/.dektop && cd ~/.dektop && wget https://raw.githubusercontent.com/Mbah-Shondong/RDPCOLAB/main/xfce-teal.zip && unzip xfce-teal.zip && sudo cp -a xfce-teal.jpg /usr/share/backgrounds/xfce/ && cd ~ && rm -R ~/.dektop\n",
        "clear_output()\n",
        "! echo \"Menginstal Browser Firefox\"\n",
        "! sudo apt install firefox -y  > /dev/null 2>&1\n",
        "! echo \"Menginstal Browser Chrome\"\n",
        "! wget https://dl.google.com/linux/direct/google-chrome-stable_current_amd64.deb > /dev/null 2>&1\n",
        "! sudo dpkg -i google-chrome-stable_current_amd64.deb > /dev/null 2>&1\n",
        "! echo \"Menginstal Notepad\"\n",
        "! sudo apt install gedit > /dev/null 2>&1\n",
        "! echo \"Menginstal Media Player\"\n",
        "! sudo apt install -y vlc > /dev/null 2>&1\n",
        "! echo \"Menginstal Browser Chromium\"\n",
        "! sudo apt install -y chromium-browser > /dev/null 2>&1\n",
        "! echo \"Setting Desktop\"\n",
        "! mkdir -p ~/.seting && cd ~/.seting && wget https://raw.githubusercontent.com/Mbah-Shondong/RDPCOLAB/main/xsettings.zip && unzip xsettings.zip && sudo cp -a xsettings.xml /etc/xdg/xfce4/xfconf/xfce-perchannel-xml && cd ~ && rm -R ~/.seting\n",
        "clear_output()\n",
        "! wget https://github.com/Mbah-Shondong/aha/raw/main/xclicker_1.4.0_amd64.deb  > /dev/null 2>&1\n",
        "! sudo apt install ./xclicker_1.4.0_amd64.deb  > /dev/null 2>&1\n",
        "! echo \"Menginstal XRDP\"\n",
        "! sudo apt install -y xrdp  > /dev/null 2>&1\n",
        "! sudo adduser xrdp ssl-cert  > /dev/null 2>&1\n",
        "! sudo sed -i.bak '/fi/a lxde-session \\n' /etc/xrdp/startwm.sh  > /dev/null 2>&1\n",
        "! sudo service xrdp restart > /dev/null 2>&1\n",
        "! mkdir -p ~/.compi && cd ~/.compi && wget https://raw.githubusercontent.com/Mbah-Shondong/RDPCOLAB/main/.config.zip && unzip .config.zip && sudo cp -a .config /root && cd ~ && rm -R ~/.compi\n",
        "clear_output()\n",
        "! echo \"===============================\"\n",
        "! echo \"=      STATUS COMPLETED\"\n",
        "! echo \"===============================\"\n",
        "! echo \"=       RDP IP ADDRESS\"\n",
        "! echo \"=-----------------------------=\"\n",
        "! curl --silent --show-error http://127.0.0.1:4040/api/tunnels | sed -nE 's/.*public_url\":\"tcp:..([^\"]*).*/\\1/p'\n",
        "! echo \"=-----------------------------=\"\n",
        "! echo \"=   user= root\"    \"pass= ok123    =\"\n",
        "! echo \"===============================\"\n",
        "! sleep 43200"
      ]
    }
  ]
}
