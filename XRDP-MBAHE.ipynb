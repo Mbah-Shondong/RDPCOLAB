{
  "nbformat": 4,
  "nbformat_minor": 0,
  "metadata": {
    "colab": {
      "provenance": [],
      "authorship_tag": "ABX9TyPd7h/pF4oJF9RuzHrtIjq6",
      "include_colab_link": true
    },
    "kernelspec": {
      "name": "python3",
      "display_name": "Python 3"
    },
    "language_info": {
      "name": "python"
    }
  },
  "cells": [
    {
      "cell_type": "markdown",
      "metadata": {
        "id": "view-in-github",
        "colab_type": "text"
      },
      "source": [
        "<a href=\"https://colab.research.google.com/github/Mbah-Shondong/RDPCOLAB/blob/main/XRDP-MBAHE.ipynb\" target=\"_parent\"><img src=\"https://colab.research.google.com/assets/colab-badge.svg\" alt=\"Open In Colab\"/></a>"
      ]
    },
    {
      "cell_type": "code",
      "execution_count": null,
      "metadata": {
        "id": "WG3qWckAHBuH"
      },
      "outputs": [],
      "source": [
        "#@title PLAY XRDP MOZILA { run: \"auto\", vertical-output: true, form-width: \"100px\", display-mode: \"form\" }\n",
        "import os\n",
        "username = \"\" #@param {type:\"string\"}\n",
        "password = \"\" #@param {type:\"string\"}\n",
        "token = \"\" #@param {type:\"string\"}\n",
        "region = \"ap\" #@param {type:\"string\"}\n",
        "! echo \"POWER ON\"\n",
        "print(\"Creating User and Setting it up\")\n",
        "os.system(f\"useradd -m {username}\")\n",
        "os.system(f\"adduser {username} sudo\")\n",
        "os.system(f\"echo '{username}:{password}' | sudo chpasswd\")\n",
        "os.system(\"sed -i 's/\\/bin\\/sh/\\/bin\\/bash/g' /etc/passwd\")\n",
        "print(\"User Created and Configured\")\n",
        "! echo \"Success membuat User\"\n",
        "! echo \"Processing Download dan Menginstal ngrok\"\n",
        "! wget -O ngrok.zip https://bin.equinox.io/c/4VmDzA7iaHb/ngrok-stable-linux-amd64.zip > /dev/null 2>&1\n",
        "! unzip ngrok.zip > /dev/null 2>&1\n",
        "! ./ngrok authtoken {token} > /dev/null 2>&1\n",
        "! ./ngrok tcp --region {region} 3389 &>/dev/null &\n",
        "! echo \"Menginstal Desktop Environment\"\n",
        "! sudo apt-get update > /dev/null 2>&1\n",
        "! sudo apt install xubuntu-desktop -y > /dev/null 2>&1\n",
        "! echo \"Menginstal Browser Firefox\"\n",
        "! sudo apt install firefox -y  > /dev/null 2>&1\n",
        "! echo \"Menginstal XRDP\"\n",
        "! sudo apt install -y xrdp  > /dev/null 2>&1\n",
        "! sudo adduser xrdp ssl-cert  > /dev/null 2>&1\n",
        "! sudo sed -i.bak '/fi/a xfce4-session \\n' /etc/xrdp/startwm.sh  > /dev/null 2>&1\n",
        "! sudo service xrdp restart > /dev/null 2>&1\n",
        "! echo \"COMPLETED\"\n",
        "! echo \"----------------------------------------\"\n",
        "! echo \"IP ADDRESS = \"\n",
        "! curl --silent --show-error http://127.0.0.1:4040/api/tunnels | sed -nE 's/.*public_url\":\"tcp:..([^\"]*).*/\\1/p'\n",
        "\n",
        "! sleep 43200"
      ]
    }
  ]
}
